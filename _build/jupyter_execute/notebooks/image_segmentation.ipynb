{
 "cells": [
  {
   "cell_type": "code",
   "execution_count": null,
   "metadata": {},
   "outputs": [],
   "source": [
    "!pip install -q segmentation_models_pytorch"
   ]
  },
  {
   "cell_type": "code",
   "execution_count": null,
   "metadata": {
    "execution": {
     "iopub.execute_input": "2022-04-15T04:47:45.937567Z",
     "iopub.status.busy": "2022-04-15T04:47:45.937279Z",
     "iopub.status.idle": "2022-04-15T04:47:52.533763Z",
     "shell.execute_reply": "2022-04-15T04:47:52.532977Z",
     "shell.execute_reply.started": "2022-04-15T04:47:45.937533Z"
    }
   },
   "outputs": [],
   "source": [
    "from pathlib import Path\n",
    "import os\n",
    "import cv2\n",
    "import albumentations as A\n",
    "from albumentations.pytorch.transforms import ToTensorV2\n",
    "import segmentation_models_pytorch as smp\n",
    "\n",
    "import pandas as pd\n",
    "from sklearn.model_selection import train_test_split\n",
    "import matplotlib.pyplot as plt\n",
    "\n",
    "import torch\n",
    "from torch.utils.data import Dataset, DataLoader\n",
    "from torch import optim\n",
    "import torch.nn.functional as F\n",
    "from pytorch_lightning import LightningModule, Trainer"
   ]
  },
  {
   "cell_type": "code",
   "execution_count": null,
   "metadata": {
    "execution": {
     "iopub.execute_input": "2022-04-15T04:48:03.763269Z",
     "iopub.status.busy": "2022-04-15T04:48:03.763002Z",
     "iopub.status.idle": "2022-04-15T04:48:03.768931Z",
     "shell.execute_reply": "2022-04-15T04:48:03.768259Z",
     "shell.execute_reply.started": "2022-04-15T04:48:03.76324Z"
    }
   },
   "outputs": [],
   "source": [
    "img_root_path = Path(\"../input/kittiroadsegmentation/training/image_2\")\n",
    "mask_root_path = Path(\"../input/kittiroadsegmentation/training/gt_image_2\")\n",
    "img_files = img_root_path.glob('*')\n",
    "\n",
    "def get_existing_imgs_and_masks(img_files, mask_root_path):\n",
    "    existing_imgs, existing_masks = [], []\n",
    "    \n",
    "    for img_file in img_files:\n",
    "        mask_file = f\"{mask_root_path}/um_lane_{str(img_file).split('_')[-1]}\"\n",
    "\n",
    "        if os.path.exists(mask_file):\n",
    "            existing_imgs.append(img_file)\n",
    "            existing_masks.append(mask_file) \n",
    "         \n",
    "    return existing_imgs, existing_masks"
   ]
  },
  {
   "cell_type": "code",
   "execution_count": null,
   "metadata": {
    "execution": {
     "iopub.execute_input": "2022-04-15T04:48:04.695488Z",
     "iopub.status.busy": "2022-04-15T04:48:04.694753Z",
     "iopub.status.idle": "2022-04-15T04:48:04.849631Z",
     "shell.execute_reply": "2022-04-15T04:48:04.84883Z",
     "shell.execute_reply.started": "2022-04-15T04:48:04.695442Z"
    }
   },
   "outputs": [],
   "source": [
    "imgs, masks = get_existing_imgs_and_masks(img_files, mask_root_path)"
   ]
  },
  {
   "cell_type": "code",
   "execution_count": null,
   "metadata": {
    "execution": {
     "iopub.execute_input": "2022-04-15T04:48:05.741513Z",
     "iopub.status.busy": "2022-04-15T04:48:05.740893Z",
     "iopub.status.idle": "2022-04-15T04:48:05.761024Z",
     "shell.execute_reply": "2022-04-15T04:48:05.760289Z",
     "shell.execute_reply.started": "2022-04-15T04:48:05.741471Z"
    }
   },
   "outputs": [],
   "source": [
    "df = pd.DataFrame(columns=['imgs'])\n",
    "\n",
    "df['imgs'] = imgs\n",
    "df['masks'] = masks"
   ]
  },
  {
   "cell_type": "code",
   "execution_count": null,
   "metadata": {
    "execution": {
     "iopub.execute_input": "2022-04-15T04:48:06.568957Z",
     "iopub.status.busy": "2022-04-15T04:48:06.568701Z",
     "iopub.status.idle": "2022-04-15T04:48:06.574899Z",
     "shell.execute_reply": "2022-04-15T04:48:06.573975Z",
     "shell.execute_reply.started": "2022-04-15T04:48:06.56893Z"
    }
   },
   "outputs": [],
   "source": [
    "train_df, eval_df = train_test_split(df, test_size=0.1, shuffle=True, random_state=42)"
   ]
  },
  {
   "cell_type": "code",
   "execution_count": null,
   "metadata": {
    "execution": {
     "iopub.execute_input": "2022-04-15T04:48:07.288712Z",
     "iopub.status.busy": "2022-04-15T04:48:07.287943Z",
     "iopub.status.idle": "2022-04-15T04:48:07.292679Z",
     "shell.execute_reply": "2022-04-15T04:48:07.2917Z",
     "shell.execute_reply.started": "2022-04-15T04:48:07.288676Z"
    }
   },
   "outputs": [],
   "source": [
    "sample_img_path = str(imgs[0])\n",
    "sample_mask_path = str(masks[0])"
   ]
  },
  {
   "cell_type": "code",
   "execution_count": null,
   "metadata": {
    "execution": {
     "iopub.execute_input": "2022-04-15T04:48:08.208023Z",
     "iopub.status.busy": "2022-04-15T04:48:08.207754Z",
     "iopub.status.idle": "2022-04-15T04:48:08.263874Z",
     "shell.execute_reply": "2022-04-15T04:48:08.263147Z",
     "shell.execute_reply.started": "2022-04-15T04:48:08.207993Z"
    }
   },
   "outputs": [],
   "source": [
    "sample_img = cv2.imread(sample_img_path)\n",
    "sample_img = cv2.cvtColor(sample_img, cv2.COLOR_BGR2RGB)/255.0"
   ]
  },
  {
   "cell_type": "code",
   "execution_count": null,
   "metadata": {
    "execution": {
     "iopub.execute_input": "2022-04-15T04:48:09.01724Z",
     "iopub.status.busy": "2022-04-15T04:48:09.016977Z",
     "iopub.status.idle": "2022-04-15T04:48:09.03662Z",
     "shell.execute_reply": "2022-04-15T04:48:09.035934Z",
     "shell.execute_reply.started": "2022-04-15T04:48:09.01721Z"
    }
   },
   "outputs": [],
   "source": [
    "sample_mask = cv2.imread(sample_mask_path)/255.0\n",
    "sample_mask = sample_mask[:, :, 0]\n",
    "sample_mask = (sample_mask==1).astype(float)"
   ]
  },
  {
   "cell_type": "code",
   "execution_count": null,
   "metadata": {
    "execution": {
     "iopub.execute_input": "2022-04-15T04:48:09.742374Z",
     "iopub.status.busy": "2022-04-15T04:48:09.742102Z",
     "iopub.status.idle": "2022-04-15T04:48:09.764595Z",
     "shell.execute_reply": "2022-04-15T04:48:09.763918Z",
     "shell.execute_reply.started": "2022-04-15T04:48:09.742344Z"
    }
   },
   "outputs": [],
   "source": [
    "# resize and convert to tensors\n",
    "transform = A.Compose([A.Resize(256, 256), ToTensorV2()])\n",
    "\n",
    "augmented = transform(image=sample_img, mask=sample_mask)"
   ]
  },
  {
   "cell_type": "code",
   "execution_count": null,
   "metadata": {
    "execution": {
     "iopub.execute_input": "2022-04-15T04:48:10.681386Z",
     "iopub.status.busy": "2022-04-15T04:48:10.681106Z",
     "iopub.status.idle": "2022-04-15T04:48:10.690456Z",
     "shell.execute_reply": "2022-04-15T04:48:10.689623Z",
     "shell.execute_reply.started": "2022-04-15T04:48:10.681353Z"
    }
   },
   "outputs": [],
   "source": [
    "augmented['mask'] = augmented['mask'].unsqueeze(0)\n",
    "augmented['image'] = augmented['image'].type(torch.FloatTensor)"
   ]
  },
  {
   "cell_type": "code",
   "execution_count": null,
   "metadata": {
    "execution": {
     "iopub.execute_input": "2022-04-15T04:48:11.281334Z",
     "iopub.status.busy": "2022-04-15T04:48:11.28104Z",
     "iopub.status.idle": "2022-04-15T04:48:11.2898Z",
     "shell.execute_reply": "2022-04-15T04:48:11.289086Z",
     "shell.execute_reply.started": "2022-04-15T04:48:11.281302Z"
    }
   },
   "outputs": [],
   "source": [
    "class LoadDataset(Dataset):\n",
    "    def __init__(self, img_paths, mask_paths):\n",
    "        self.imgs = img_paths\n",
    "        self.masks = mask_paths\n",
    "        self.transform = A.Compose([A.Resize(256, 256), ToTensorV2()])\n",
    "        \n",
    "    def __len__(self): return len(self.imgs)\n",
    "    \n",
    "    def __getitem__(self, idx):\n",
    "        img = cv2.imread(str(self.imgs[idx]))\n",
    "        img = cv2.cvtColor(img, cv2.COLOR_BGR2RGB)/255.0\n",
    "        \n",
    "        mask = cv2.imread(str(self.masks[idx]))/255.0\n",
    "        mask = (mask[:, :, 0]==1).astype(float)\n",
    "        \n",
    "        augmented = self.transform(image=img, mask=mask)\n",
    "        augmented['image'] = augmented['image'].type(torch.FloatTensor)\n",
    "        augmented['mask'] = augmented['mask'].unsqueeze(0)\n",
    "        \n",
    "        return augmented"
   ]
  },
  {
   "cell_type": "code",
   "execution_count": null,
   "metadata": {
    "execution": {
     "iopub.execute_input": "2022-04-15T04:48:11.902526Z",
     "iopub.status.busy": "2022-04-15T04:48:11.901983Z",
     "iopub.status.idle": "2022-04-15T04:48:11.907056Z",
     "shell.execute_reply": "2022-04-15T04:48:11.906321Z",
     "shell.execute_reply.started": "2022-04-15T04:48:11.902488Z"
    }
   },
   "outputs": [],
   "source": [
    "train_ds = LoadDataset(train_df['imgs'].values, train_df['masks'].values)\n",
    "eval_ds = LoadDataset(eval_df['imgs'].values, eval_df['masks'].values)"
   ]
  },
  {
   "cell_type": "code",
   "execution_count": null,
   "metadata": {
    "execution": {
     "iopub.execute_input": "2022-04-15T04:48:12.51247Z",
     "iopub.status.busy": "2022-04-15T04:48:12.511835Z",
     "iopub.status.idle": "2022-04-15T04:48:12.649274Z",
     "shell.execute_reply": "2022-04-15T04:48:12.648438Z",
     "shell.execute_reply.started": "2022-04-15T04:48:12.512424Z"
    }
   },
   "outputs": [],
   "source": [
    "print(train_ds[0], eval_ds[0])"
   ]
  },
  {
   "cell_type": "code",
   "execution_count": null,
   "metadata": {
    "execution": {
     "iopub.execute_input": "2022-04-15T04:48:13.134351Z",
     "iopub.status.busy": "2022-04-15T04:48:13.133728Z",
     "iopub.status.idle": "2022-04-15T04:48:13.143787Z",
     "shell.execute_reply": "2022-04-15T04:48:13.143094Z",
     "shell.execute_reply.started": "2022-04-15T04:48:13.134312Z"
    }
   },
   "outputs": [],
   "source": [
    "class SegmentationModel(LightningModule):\n",
    "    def __init__(self):\n",
    "        super().__init__()\n",
    "        self.learning_rate = 1e-3\n",
    "        self.batch_size = 32\n",
    "        \n",
    "        self.model = smp.Unet(\n",
    "            'resnet34', \n",
    "            classes=1, \n",
    "            activation=None, \n",
    "            encoder_weights='imagenet'\n",
    "        )\n",
    "        \n",
    "    def forward(self, x):\n",
    "        return self.model(x)\n",
    "        \n",
    "    def train_dataloader(self):\n",
    "        return DataLoader(train_ds, batch_size=self.batch_size, shuffle=False)\n",
    "    \n",
    "    def val_dataloader(self):\n",
    "        return DataLoader(eval_ds, batch_size=self.batch_size, shuffle=False)\n",
    "    \n",
    "    def training_step(self, batch, batch_idx):\n",
    "        x, y = batch['image'], batch['mask']\n",
    "        out = self.model(x)\n",
    "        loss = F.binary_cross_entropy_with_logits(out, y)\n",
    "        \n",
    "        self.log(\"train_loss\", loss, prog_bar=True)\n",
    "        return loss\n",
    "    \n",
    "    def validation_step(self, batch, batch_idx):\n",
    "        x, y = batch['image'], batch['mask']\n",
    "        out = self.model(x)\n",
    "        loss = F.binary_cross_entropy_with_logits(out, y)\n",
    "        \n",
    "        self.log(\"val_loss\", loss, prog_bar=True)\n",
    "        return loss\n",
    "    \n",
    "    def configure_optimizers(self):\n",
    "        return optim.AdamW(self.model.parameters(), lr=self.learning_rate)"
   ]
  },
  {
   "cell_type": "code",
   "execution_count": null,
   "metadata": {
    "execution": {
     "iopub.execute_input": "2022-04-15T04:54:27.296226Z",
     "iopub.status.busy": "2022-04-15T04:54:27.295512Z",
     "iopub.status.idle": "2022-04-15T05:03:48.234504Z",
     "shell.execute_reply": "2022-04-15T05:03:48.233808Z",
     "shell.execute_reply.started": "2022-04-15T04:54:27.296184Z"
    }
   },
   "outputs": [],
   "source": [
    "model = SegmentationModel()\n",
    "trainer = Trainer(\n",
    "    accelerator='auto',  # automatically select the available accelerator(CPU, GPU, TPU etc)\n",
    "    devices=1,           # select the available one device of the accelerator\n",
    "    auto_lr_find=True,   # use learning rate finder to set the learning rate\n",
    "    max_epochs=40,        # number of epochs to train\n",
    ")\n",
    "\n",
    "trainer.tune(model)      # runs learning rate finder and sets the learning rate\n",
    "trainer.fit(model)"
   ]
  },
  {
   "cell_type": "code",
   "execution_count": null,
   "metadata": {
    "execution": {
     "iopub.execute_input": "2022-04-15T05:07:08.2165Z",
     "iopub.status.busy": "2022-04-15T05:07:08.216214Z",
     "iopub.status.idle": "2022-04-15T05:07:08.435236Z",
     "shell.execute_reply": "2022-04-15T05:07:08.434438Z",
     "shell.execute_reply.started": "2022-04-15T05:07:08.216468Z"
    }
   },
   "outputs": [],
   "source": [
    "idx = 24\n",
    "img = eval_ds[idx]['image']\n",
    "mask = eval_ds[idx]['mask']\n",
    "\n",
    "# prediction\n",
    "model.eval()\n",
    "with torch.no_grad():\n",
    "    pred_probability = model(img.unsqueeze(0))\n",
    "    pred_probability = torch.sigmoid(pred_probability)\n",
    "    pred = (pred_probability>0.5).type(torch.int)"
   ]
  },
  {
   "cell_type": "code",
   "execution_count": null,
   "metadata": {
    "execution": {
     "iopub.execute_input": "2022-04-15T05:07:28.182147Z",
     "iopub.status.busy": "2022-04-15T05:07:28.1819Z",
     "iopub.status.idle": "2022-04-15T05:07:28.454561Z",
     "shell.execute_reply": "2022-04-15T05:07:28.453864Z",
     "shell.execute_reply.started": "2022-04-15T05:07:28.182117Z"
    }
   },
   "outputs": [],
   "source": [
    "plt.subplot(1, 2, 1)\n",
    "plt.imshow(pred.squeeze())\n",
    "plt.title('Prediction')\n",
    "\n",
    "plt.subplot(1, 2, 2)\n",
    "plt.imshow(mask.squeeze())\n",
    "plt.title(\"Original\");"
   ]
  },
  {
   "cell_type": "code",
   "execution_count": null,
   "metadata": {},
   "outputs": [],
   "source": []
  }
 ],
 "metadata": {
  "kernelspec": {
   "display_name": "Python 3",
   "language": "python",
   "name": "python3"
  },
  "language_info": {
   "codemirror_mode": {
    "name": "ipython",
    "version": 3
   },
   "file_extension": ".py",
   "mimetype": "text/x-python",
   "name": "python",
   "nbconvert_exporter": "python",
   "pygments_lexer": "ipython3",
   "version": "3.6.4"
  }
 },
 "nbformat": 4,
 "nbformat_minor": 4
}