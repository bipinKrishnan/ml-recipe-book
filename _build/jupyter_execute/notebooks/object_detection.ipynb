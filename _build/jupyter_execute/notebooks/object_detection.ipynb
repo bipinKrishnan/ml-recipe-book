{
 "cells": [
  {
   "cell_type": "code",
   "execution_count": 22,
   "metadata": {
    "execution": {
     "iopub.execute_input": "2022-04-23T07:17:29.015138Z",
     "iopub.status.busy": "2022-04-23T07:17:29.014585Z",
     "iopub.status.idle": "2022-04-23T07:17:29.020406Z",
     "shell.execute_reply": "2022-04-23T07:17:29.019647Z",
     "shell.execute_reply.started": "2022-04-23T07:17:29.015094Z"
    }
   },
   "outputs": [],
   "source": [
    "import pandas as pd\n",
    "from sklearn.model_selection import train_test_split\n",
    "\n",
    "import torch\n",
    "from torchvision.ops import box_iou\n",
    "from torch.utils.data import Dataset, DataLoader\n",
    "from torchvision.models.detection import fasterrcnn_resnet50_fpn\n",
    "from torchvision.models.detection.faster_rcnn import FastRCNNPredictor\n",
    "from pytorch_lightning import LightningModule, Trainer\n",
    "\n",
    "import cv2\n",
    "from pathlib import Path\n",
    "import albumentations as A\n",
    "from albumentations.pytorch.transforms import ToTensorV2"
   ]
  },
  {
   "cell_type": "code",
   "execution_count": 23,
   "metadata": {
    "execution": {
     "iopub.execute_input": "2022-04-23T07:17:29.042434Z",
     "iopub.status.busy": "2022-04-23T07:17:29.042106Z",
     "iopub.status.idle": "2022-04-23T07:17:29.059642Z",
     "shell.execute_reply": "2022-04-23T07:17:29.058965Z",
     "shell.execute_reply.started": "2022-04-23T07:17:29.042397Z"
    }
   },
   "outputs": [],
   "source": [
    "df = pd.read_csv(\"../input/car-object-detection/data/train_solution_bounding_boxes (1).csv\")\n",
    "df.head()"
   ]
  },
  {
   "cell_type": "code",
   "execution_count": 24,
   "metadata": {
    "execution": {
     "iopub.execute_input": "2022-04-23T07:17:29.068114Z",
     "iopub.status.busy": "2022-04-23T07:17:29.067880Z",
     "iopub.status.idle": "2022-04-23T07:17:29.076580Z",
     "shell.execute_reply": "2022-04-23T07:17:29.075871Z",
     "shell.execute_reply.started": "2022-04-23T07:17:29.068069Z"
    }
   },
   "outputs": [],
   "source": [
    "df['bbox_width'] = df['xmax']-df['xmin']\n",
    "df['bbox_height'] = df['ymax']-df['ymin']\n",
    "\n",
    "df['area'] = df['bbox_width']*df['bbox_height']"
   ]
  },
  {
   "cell_type": "code",
   "execution_count": 25,
   "metadata": {
    "execution": {
     "iopub.execute_input": "2022-04-23T07:17:29.114264Z",
     "iopub.status.busy": "2022-04-23T07:17:29.113936Z",
     "iopub.status.idle": "2022-04-23T07:17:29.150835Z",
     "shell.execute_reply": "2022-04-23T07:17:29.150043Z",
     "shell.execute_reply.started": "2022-04-23T07:17:29.114234Z"
    }
   },
   "outputs": [],
   "source": [
    "# group by similar image names\n",
    "df = df.groupby('image').agg(list)\n",
    "df.reset_index(inplace=True)"
   ]
  },
  {
   "cell_type": "code",
   "execution_count": 26,
   "metadata": {
    "execution": {
     "iopub.execute_input": "2022-04-23T07:17:29.152798Z",
     "iopub.status.busy": "2022-04-23T07:17:29.152412Z",
     "iopub.status.idle": "2022-04-23T07:17:29.160017Z",
     "shell.execute_reply": "2022-04-23T07:17:29.159388Z",
     "shell.execute_reply.started": "2022-04-23T07:17:29.152762Z"
    }
   },
   "outputs": [],
   "source": [
    "train_df, val_df = train_test_split(df, test_size=0.1, shuffle=False)\n",
    "train_df.reset_index(inplace=True)\n",
    "val_df.reset_index(inplace=True)"
   ]
  },
  {
   "cell_type": "code",
   "execution_count": 27,
   "metadata": {
    "execution": {
     "iopub.execute_input": "2022-04-23T07:17:29.236656Z",
     "iopub.status.busy": "2022-04-23T07:17:29.236184Z",
     "iopub.status.idle": "2022-04-23T07:17:29.241848Z",
     "shell.execute_reply": "2022-04-23T07:17:29.241147Z",
     "shell.execute_reply.started": "2022-04-23T07:17:29.236624Z"
    }
   },
   "outputs": [],
   "source": [
    "img_root_path = Path(\"../input/car-object-detection/data/training_images\")\n",
    "                     \n",
    "sample = train_df.iloc[215]\n",
    "img_name = sample['image']\n",
    "bboxes = sample[['xmin', 'ymin', 'xmax', 'ymax']].values"
   ]
  },
  {
   "cell_type": "code",
   "execution_count": 28,
   "metadata": {
    "execution": {
     "iopub.execute_input": "2022-04-23T07:17:29.352898Z",
     "iopub.status.busy": "2022-04-23T07:17:29.352427Z",
     "iopub.status.idle": "2022-04-23T07:17:29.366433Z",
     "shell.execute_reply": "2022-04-23T07:17:29.365769Z",
     "shell.execute_reply.started": "2022-04-23T07:17:29.352863Z"
    }
   },
   "outputs": [],
   "source": [
    "img = cv2.imread(str(img_root_path/img_name))\n",
    "img = cv2.cvtColor(img, cv2.COLOR_BGR2RGB)/255.0\n",
    "\n",
    "bboxes = tuple(map(torch.tensor, zip(*bboxes)))\n",
    "bboxes = torch.stack(bboxes, dim=0)"
   ]
  },
  {
   "cell_type": "code",
   "execution_count": 29,
   "metadata": {
    "execution": {
     "iopub.execute_input": "2022-04-23T07:17:29.460040Z",
     "iopub.status.busy": "2022-04-23T07:17:29.459459Z",
     "iopub.status.idle": "2022-04-23T07:17:29.465667Z",
     "shell.execute_reply": "2022-04-23T07:17:29.464722Z",
     "shell.execute_reply.started": "2022-04-23T07:17:29.459935Z"
    }
   },
   "outputs": [],
   "source": [
    "labels = torch.ones(len(bboxes), dtype=torch.int64)"
   ]
  },
  {
   "cell_type": "code",
   "execution_count": 30,
   "metadata": {
    "execution": {
     "iopub.execute_input": "2022-04-23T07:17:29.583688Z",
     "iopub.status.busy": "2022-04-23T07:17:29.583251Z",
     "iopub.status.idle": "2022-04-23T07:17:29.587842Z",
     "shell.execute_reply": "2022-04-23T07:17:29.587145Z",
     "shell.execute_reply.started": "2022-04-23T07:17:29.583653Z"
    }
   },
   "outputs": [],
   "source": [
    "transforms = A.Compose([\n",
    "    A.Resize(256, 256, p=1.0),\n",
    "    ToTensorV2(p=1.0),\n",
    "], bbox_params={'format': 'pascal_voc', 'label_fields': ['labels']})"
   ]
  },
  {
   "cell_type": "code",
   "execution_count": 31,
   "metadata": {
    "execution": {
     "iopub.execute_input": "2022-04-23T07:17:29.685070Z",
     "iopub.status.busy": "2022-04-23T07:17:29.684381Z",
     "iopub.status.idle": "2022-04-23T07:17:29.698701Z",
     "shell.execute_reply": "2022-04-23T07:17:29.698030Z",
     "shell.execute_reply.started": "2022-04-23T07:17:29.685031Z"
    }
   },
   "outputs": [],
   "source": [
    "augmented = transforms(image=img, bboxes=bboxes, labels=labels)"
   ]
  },
  {
   "cell_type": "code",
   "execution_count": 32,
   "metadata": {
    "execution": {
     "iopub.execute_input": "2022-04-23T07:17:29.805181Z",
     "iopub.status.busy": "2022-04-23T07:17:29.804489Z",
     "iopub.status.idle": "2022-04-23T07:17:29.813711Z",
     "shell.execute_reply": "2022-04-23T07:17:29.812901Z",
     "shell.execute_reply.started": "2022-04-23T07:17:29.805148Z"
    }
   },
   "outputs": [],
   "source": [
    "torch.stack(tuple(map(torch.tensor, zip(*augmented['bboxes'])))).permute(1, 0).type(torch.float32)"
   ]
  },
  {
   "cell_type": "code",
   "execution_count": 33,
   "metadata": {
    "execution": {
     "iopub.execute_input": "2022-04-23T07:17:29.905775Z",
     "iopub.status.busy": "2022-04-23T07:17:29.905525Z",
     "iopub.status.idle": "2022-04-23T07:17:29.910257Z",
     "shell.execute_reply": "2022-04-23T07:17:29.909323Z",
     "shell.execute_reply.started": "2022-04-23T07:17:29.905748Z"
    }
   },
   "outputs": [],
   "source": [
    "bboxes = map(torch.tensor, zip(*augmented['bboxes']))\n",
    "bboxes = tuple(bboxes)\n",
    "bboxes = torch.stack(bboxes, dim=0)"
   ]
  },
  {
   "cell_type": "code",
   "execution_count": 34,
   "metadata": {
    "execution": {
     "iopub.execute_input": "2022-04-23T07:17:30.054066Z",
     "iopub.status.busy": "2022-04-23T07:17:30.053507Z",
     "iopub.status.idle": "2022-04-23T07:17:30.058879Z",
     "shell.execute_reply": "2022-04-23T07:17:30.057854Z",
     "shell.execute_reply.started": "2022-04-23T07:17:30.054026Z"
    }
   },
   "outputs": [],
   "source": [
    "img = augmented['image'].type(torch.float32)\n",
    "bboxes = bboxes.permute(1, 0).type(torch.float32)"
   ]
  },
  {
   "cell_type": "code",
   "execution_count": 35,
   "metadata": {
    "execution": {
     "iopub.execute_input": "2022-04-23T07:17:30.209400Z",
     "iopub.status.busy": "2022-04-23T07:17:30.208596Z",
     "iopub.status.idle": "2022-04-23T07:17:30.214522Z",
     "shell.execute_reply": "2022-04-23T07:17:30.213548Z",
     "shell.execute_reply.started": "2022-04-23T07:17:30.209364Z"
    }
   },
   "outputs": [],
   "source": [
    "area = sample['area']\n",
    "iscrowd = torch.zeros(len(bboxes), dtype=torch.int)\n",
    "\n",
    "target = {}\n",
    "target['boxes'] = bboxes\n",
    "target['labels'] = labels\n",
    "target['area'] = torch.as_tensor(area, dtype=torch.float32)\n",
    "target['iscrowd'] = iscrowd"
   ]
  },
  {
   "cell_type": "code",
   "execution_count": 36,
   "metadata": {
    "execution": {
     "iopub.execute_input": "2022-04-23T07:17:30.417170Z",
     "iopub.status.busy": "2022-04-23T07:17:30.416620Z",
     "iopub.status.idle": "2022-04-23T07:17:30.428861Z",
     "shell.execute_reply": "2022-04-23T07:17:30.427430Z",
     "shell.execute_reply.started": "2022-04-23T07:17:30.417135Z"
    }
   },
   "outputs": [],
   "source": [
    "class LoadDataset(Dataset):\n",
    "    def __init__(self, df, img_dir, transforms):\n",
    "        super().__init__()\n",
    "        self.df = df\n",
    "        self.img_dir = img_dir\n",
    "        self.transforms = transforms\n",
    "        \n",
    "    def __len__(self): return len(self.df)\n",
    "    \n",
    "    def __getitem__(self, idx):\n",
    "        # read & process the image\n",
    "        filename = self.df.loc[idx, 'image']\n",
    "        img = cv2.imread(str(self.img_dir/filename))\n",
    "        img = cv2.cvtColor(img, cv2.COLOR_BGR2RGB)/255.0\n",
    "        \n",
    "        # get the bboxes\n",
    "        bboxes = self.df.loc[idx, ['xmin', 'ymin', 'xmax', 'ymax']].values\n",
    "        bboxes = tuple(map(torch.tensor, zip(*bboxes)))\n",
    "        bboxes = torch.stack(bboxes, dim=0)\n",
    "        \n",
    "        # create labels\n",
    "        labels = torch.ones(len(bboxes), dtype=torch.int64)\n",
    "        # apply augmentations\n",
    "        augmented = self.transforms(image=img, bboxes=bboxes, labels=labels)\n",
    "        \n",
    "        # convert bbox list to tensors again\n",
    "        bboxes = map(torch.tensor, zip(*augmented['bboxes']))\n",
    "        bboxes = tuple(bboxes)\n",
    "        bboxes = torch.stack(bboxes, dim=0)\n",
    "        \n",
    "        img = augmented['image'].type(torch.float32)\n",
    "        bboxes = bboxes.permute(1, 0).type(torch.float32)\n",
    "        iscrowd = torch.zeros(len(bboxes), dtype=torch.int)\n",
    "        \n",
    "        # bbox area\n",
    "        area = self.df.loc[idx, 'area']\n",
    "        torch.as_tensor(area, dtype=torch.float32)\n",
    "\n",
    "        target = {}\n",
    "        target['boxes'] = bboxes\n",
    "        target['labels'] = labels\n",
    "        target['area'] = area\n",
    "        target['iscrowd'] = iscrowd\n",
    "        \n",
    "        return img, target"
   ]
  },
  {
   "cell_type": "code",
   "execution_count": 37,
   "metadata": {
    "execution": {
     "iopub.execute_input": "2022-04-23T07:17:30.568541Z",
     "iopub.status.busy": "2022-04-23T07:17:30.568288Z",
     "iopub.status.idle": "2022-04-23T07:17:30.572910Z",
     "shell.execute_reply": "2022-04-23T07:17:30.571929Z",
     "shell.execute_reply.started": "2022-04-23T07:17:30.568512Z"
    }
   },
   "outputs": [],
   "source": [
    "train_ds = LoadDataset(train_df, img_root_path, transforms)\n",
    "val_ds = LoadDataset(val_df, img_root_path, transforms)"
   ]
  },
  {
   "cell_type": "code",
   "execution_count": 38,
   "metadata": {
    "execution": {
     "iopub.execute_input": "2022-04-23T07:17:30.693096Z",
     "iopub.status.busy": "2022-04-23T07:17:30.692557Z",
     "iopub.status.idle": "2022-04-23T07:17:31.415269Z",
     "shell.execute_reply": "2022-04-23T07:17:31.414530Z",
     "shell.execute_reply.started": "2022-04-23T07:17:30.693043Z"
    }
   },
   "outputs": [],
   "source": [
    "model = fasterrcnn_resnet50_fpn(pretrained=True)\n",
    "\n",
    "# get input features of classification layer\n",
    "in_features = model.roi_heads.box_predictor.cls_score.in_features\n",
    "\n",
    "# modify the classifier layer with number of classes\n",
    "model.roi_heads.box_predictor = FastRCNNPredictor(in_features, num_classes=2)"
   ]
  },
  {
   "cell_type": "code",
   "execution_count": 39,
   "metadata": {
    "execution": {
     "iopub.execute_input": "2022-04-23T07:17:31.417752Z",
     "iopub.status.busy": "2022-04-23T07:17:31.417307Z",
     "iopub.status.idle": "2022-04-23T07:17:31.431213Z",
     "shell.execute_reply": "2022-04-23T07:17:31.430229Z",
     "shell.execute_reply.started": "2022-04-23T07:17:31.417715Z"
    }
   },
   "outputs": [],
   "source": [
    "class ObjectDetector(LightningModule):\n",
    "    def __init__(self):\n",
    "        super().__init__()\n",
    "        self.lr = 1e-3\n",
    "        self.batch_size = 16\n",
    "        self.model = self.create_model()\n",
    "        \n",
    "    def create_model(self):\n",
    "        model = fasterrcnn_resnet50_fpn(pretrained=True)\n",
    "        in_features = model.roi_heads.box_predictor.cls_score.in_features\n",
    "        model.roi_heads.box_predictor = FastRCNNPredictor(in_features, num_classes=2)\n",
    "        return model\n",
    "\n",
    "    def forward(self, x):\n",
    "        return self.model(x)\n",
    "\n",
    "    def collate_fn(self, batch):\n",
    "        return tuple(zip(*batch))\n",
    "\n",
    "    def train_dataloader(self):\n",
    "        return DataLoader(\n",
    "            train_ds, \n",
    "            batch_size=self.batch_size, \n",
    "            shuffle=True, \n",
    "            collate_fn=self.collate_fn\n",
    "        )\n",
    "\n",
    "    def val_dataloader(self):\n",
    "        return DataLoader(\n",
    "            val_ds, \n",
    "            batch_size=self.batch_size, \n",
    "            shuffle=False, \n",
    "            collate_fn=self.collate_fn\n",
    "        )\n",
    "\n",
    "    def configure_optimizers(self):\n",
    "        return torch.optim.AdamW(self.model.parameters(), lr=self.lr)\n",
    "\n",
    "    def training_step(self, batch, batch_idx):\n",
    "        inputs, targets = batch\n",
    "        loss_dict = self.model(inputs, targets)\n",
    "        complete_loss = sum(loss for loss in loss_dict.values())\n",
    "        \n",
    "        self.log(\"train_loss\", complete_loss, prog_bar=True)\n",
    "        return {'loss': complete_loss}\n",
    "\n",
    "    def validation_step(self, batch, batch_idx):\n",
    "            inputs, targets = batch\n",
    "            outputs = self.model(inputs)\n",
    "            # calculate IOU and return the mean IOU\n",
    "            iou = torch.stack(\n",
    "                [box_iou(target['boxes'], output['boxes']).diag().mean() for target, output in zip(targets, outputs)]\n",
    "            ).mean()\n",
    "            \n",
    "            return {\"val_iou\": iou}\n",
    "\n",
    "    def validation_epoch_end(self, val_out):\n",
    "        # calculate overall IOU across batch\n",
    "        val_iou = torch.stack([o['val_iou'] for o in val_out]).mean()\n",
    "        self.log(\"val_iou\", val_iou, prog_bar=True)\n",
    "        return val_iou"
   ]
  },
  {
   "cell_type": "code",
   "execution_count": 53,
   "metadata": {
    "execution": {
     "iopub.execute_input": "2022-04-23T07:26:32.022623Z",
     "iopub.status.busy": "2022-04-23T07:26:32.022211Z",
     "iopub.status.idle": "2022-04-23T07:32:47.440725Z",
     "shell.execute_reply": "2022-04-23T07:32:47.439991Z",
     "shell.execute_reply.started": "2022-04-23T07:26:32.022579Z"
    }
   },
   "outputs": [],
   "source": [
    "detector_model = ObjectDetector()\n",
    "trainer = Trainer(\n",
    "    accelerator='auto',\n",
    "    devices=1,\n",
    "    auto_lr_find=True,\n",
    "    max_epochs=5,\n",
    ")\n",
    "\n",
    "trainer.tune(detector_model)\n",
    "trainer.fit(detector_model)"
   ]
  },
  {
   "cell_type": "code",
   "execution_count": 68,
   "metadata": {
    "execution": {
     "iopub.execute_input": "2022-04-23T07:39:04.663176Z",
     "iopub.status.busy": "2022-04-23T07:39:04.662597Z",
     "iopub.status.idle": "2022-04-23T07:39:07.859404Z",
     "shell.execute_reply": "2022-04-23T07:39:07.858483Z",
     "shell.execute_reply.started": "2022-04-23T07:39:04.663139Z"
    }
   },
   "outputs": [],
   "source": [
    "import matplotlib.pyplot as plt\n",
    "\n",
    "sample = val_ds[14]\n",
    "img = sample[0]\n",
    "\n",
    "detector_model.eval()\n",
    "with torch.no_grad():\n",
    "    out = detector_model([img])\n",
    "    \n",
    "# convert to numpy for opencv to draw bboxes\n",
    "img = img.permute(1, 2, 0).numpy()"
   ]
  },
  {
   "cell_type": "code",
   "execution_count": 69,
   "metadata": {
    "execution": {
     "iopub.execute_input": "2022-04-23T07:39:09.006247Z",
     "iopub.status.busy": "2022-04-23T07:39:09.005557Z",
     "iopub.status.idle": "2022-04-23T07:39:09.297637Z",
     "shell.execute_reply": "2022-04-23T07:39:09.296988Z",
     "shell.execute_reply.started": "2022-04-23T07:39:09.006205Z"
    }
   },
   "outputs": [],
   "source": [
    "# predicted bounding boxes    \n",
    "pred_bbox = out[0]['boxes'].numpy().astype(int)\n",
    "pred_label = out[0]['scores']\n",
    "\n",
    "# draw bounding boxes on the image\n",
    "for bbox, label in zip(pred_bbox, pred_label):\n",
    "    # check if the predicted label is for car\n",
    "    if label>=0.5:\n",
    "        cv2.rectangle(\n",
    "            img,\n",
    "            (bbox[0], bbox[1]),\n",
    "            (bbox[2], bbox[3]),\n",
    "            (255, 0, 0), thickness=2,\n",
    "        )\n",
    "    \n",
    "plt.figure(figsize=(16, 6))\n",
    "plt.imshow(img)"
   ]
  },
  {
   "cell_type": "code",
   "execution_count": null,
   "metadata": {},
   "outputs": [],
   "source": []
  }
 ],
 "metadata": {
  "kernelspec": {
   "display_name": "Python 3",
   "language": "python",
   "name": "python3"
  },
  "language_info": {
   "codemirror_mode": {
    "name": "ipython",
    "version": 3
   },
   "file_extension": ".py",
   "mimetype": "text/x-python",
   "name": "python",
   "nbconvert_exporter": "python",
   "pygments_lexer": "ipython3",
   "version": "3.7.12"
  }
 },
 "nbformat": 4,
 "nbformat_minor": 4
}