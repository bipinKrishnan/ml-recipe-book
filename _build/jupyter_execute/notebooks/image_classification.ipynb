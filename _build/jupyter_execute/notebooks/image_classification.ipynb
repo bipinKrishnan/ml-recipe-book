{
 "cells": [
  {
   "cell_type": "code",
   "execution_count": 1,
   "metadata": {
    "execution": {
     "iopub.execute_input": "2022-04-09T05:49:51.317624Z",
     "iopub.status.busy": "2022-04-09T05:49:51.317362Z",
     "iopub.status.idle": "2022-04-09T05:50:00.885846Z",
     "shell.execute_reply": "2022-04-09T05:50:00.884813Z",
     "shell.execute_reply.started": "2022-04-09T05:49:51.317547Z"
    }
   },
   "outputs": [],
   "source": [
    "pip install -q timm"
   ]
  },
  {
   "cell_type": "code",
   "execution_count": 2,
   "metadata": {
    "execution": {
     "iopub.execute_input": "2022-04-09T05:50:02.936193Z",
     "iopub.status.busy": "2022-04-09T05:50:02.935453Z",
     "iopub.status.idle": "2022-04-09T05:50:07.499452Z",
     "shell.execute_reply": "2022-04-09T05:50:07.498615Z",
     "shell.execute_reply.started": "2022-04-09T05:50:02.936154Z"
    }
   },
   "outputs": [],
   "source": [
    "import pandas as pd\n",
    "from sklearn.model_selection import train_test_split\n",
    "\n",
    "import torch\n",
    "from torch.utils.data import Dataset\n",
    "from torchvision.transforms import transforms\n",
    "from torch.utils.data import DataLoader\n",
    "import torch.nn.functional as F\n",
    "\n",
    "from PIL import Image\n",
    "from pathlib import Path\n",
    "\n",
    "from pytorch_lightning import LightningModule, Trainer\n",
    "import timm\n",
    "from pytorch_lightning.loggers import WandbLogger"
   ]
  },
  {
   "cell_type": "code",
   "execution_count": 3,
   "metadata": {
    "execution": {
     "iopub.execute_input": "2022-04-09T05:50:07.502937Z",
     "iopub.status.busy": "2022-04-09T05:50:07.502500Z",
     "iopub.status.idle": "2022-04-09T05:50:07.558583Z",
     "shell.execute_reply": "2022-04-09T05:50:07.557948Z",
     "shell.execute_reply.started": "2022-04-09T05:50:07.502885Z"
    }
   },
   "outputs": [],
   "source": [
    "csv_path = \"../input/animal-images-dataset/animal_data_img.csv\"\n",
    "df = pd.read_csv(\n",
    "    csv_path,\n",
    "    usecols=['Animal_Type', 'Image_File']\n",
    "    )\n",
    "df.head()"
   ]
  },
  {
   "cell_type": "code",
   "execution_count": 4,
   "metadata": {
    "execution": {
     "iopub.execute_input": "2022-04-09T05:50:07.560022Z",
     "iopub.status.busy": "2022-04-09T05:50:07.559758Z",
     "iopub.status.idle": "2022-04-09T05:50:07.570748Z",
     "shell.execute_reply": "2022-04-09T05:50:07.569969Z",
     "shell.execute_reply.started": "2022-04-09T05:50:07.559983Z"
    }
   },
   "outputs": [],
   "source": [
    "print(df.head())"
   ]
  },
  {
   "cell_type": "code",
   "execution_count": 5,
   "metadata": {
    "execution": {
     "iopub.execute_input": "2022-04-09T05:50:08.069636Z",
     "iopub.status.busy": "2022-04-09T05:50:08.068948Z",
     "iopub.status.idle": "2022-04-09T05:50:08.085076Z",
     "shell.execute_reply": "2022-04-09T05:50:08.084140Z",
     "shell.execute_reply.started": "2022-04-09T05:50:08.069600Z"
    }
   },
   "outputs": [],
   "source": [
    "# remove rows with 'Guinea pig / mouse' and 'Other' labels\n",
    "df = df.query(\"Animal_Type not in ['Guinea pig / mouse', 'Other']\").reset_index(drop=True)"
   ]
  },
  {
   "cell_type": "code",
   "execution_count": 6,
   "metadata": {
    "execution": {
     "iopub.execute_input": "2022-04-09T05:50:08.439008Z",
     "iopub.status.busy": "2022-04-09T05:50:08.438633Z",
     "iopub.status.idle": "2022-04-09T05:50:08.446642Z",
     "shell.execute_reply": "2022-04-09T05:50:08.445856Z",
     "shell.execute_reply.started": "2022-04-09T05:50:08.438978Z"
    }
   },
   "outputs": [],
   "source": [
    "label_string = df['Animal_Type'].unique()\n",
    "label_int = range(len(label_string))\n",
    "\n",
    "# create a dictionary with string to int label mapping\n",
    "label_mapping = dict(zip(label_string, label_int))\n",
    "print(label_mapping)"
   ]
  },
  {
   "cell_type": "code",
   "execution_count": 7,
   "metadata": {
    "execution": {
     "iopub.execute_input": "2022-04-09T05:50:09.016955Z",
     "iopub.status.busy": "2022-04-09T05:50:09.016694Z",
     "iopub.status.idle": "2022-04-09T05:50:09.023471Z",
     "shell.execute_reply": "2022-04-09T05:50:09.022560Z",
     "shell.execute_reply.started": "2022-04-09T05:50:09.016923Z"
    }
   },
   "outputs": [],
   "source": [
    "df['labels'] = df['Animal_Type'].map(label_mapping)"
   ]
  },
  {
   "cell_type": "code",
   "execution_count": 8,
   "metadata": {
    "execution": {
     "iopub.execute_input": "2022-04-09T05:50:09.735400Z",
     "iopub.status.busy": "2022-04-09T05:50:09.734927Z",
     "iopub.status.idle": "2022-04-09T05:50:09.742793Z",
     "shell.execute_reply": "2022-04-09T05:50:09.741957Z",
     "shell.execute_reply.started": "2022-04-09T05:50:09.735361Z"
    }
   },
   "outputs": [],
   "source": [
    "class LoadDataset(Dataset):\n",
    "    def __init__(self, df):\n",
    "        self.root_dir = Path(\"../input/animal-images-dataset/animal_images\")\n",
    "        # all the image paths are stores here\n",
    "        self.images = df['Image_File'].values\n",
    "        # all the labels are stored here\n",
    "        self.labels = df['labels'].values\n",
    "        \n",
    "        # these transforms are applied to each image\n",
    "        self.transforms = transforms.Compose([\n",
    "            transforms.RandomResizedCrop((100, 100)),\n",
    "            transforms.ToTensor(),\n",
    "        ])\n",
    "        \n",
    "    def __getitem__(self, idx):\n",
    "        img_path = self.root_dir/self.images[idx]\n",
    "        # load the image and pply the transforms\n",
    "        image = Image.open(img_path)\n",
    "        image = self.transforms(image)\n",
    "        # load the label corresponding to the above image\n",
    "        label = torch.tensor(self.labels[idx], dtype=torch.long)\n",
    "        return (image, label)\n",
    "    \n",
    "    def __len__(self): return len(self.images)"
   ]
  },
  {
   "cell_type": "code",
   "execution_count": 9,
   "metadata": {
    "execution": {
     "iopub.execute_input": "2022-04-09T05:50:11.288482Z",
     "iopub.status.busy": "2022-04-09T05:50:11.288215Z",
     "iopub.status.idle": "2022-04-09T05:50:11.304190Z",
     "shell.execute_reply": "2022-04-09T05:50:11.303448Z",
     "shell.execute_reply.started": "2022-04-09T05:50:11.288453Z"
    }
   },
   "outputs": [],
   "source": [
    "train_df, test_df = train_test_split(\n",
    "    df, \n",
    "    test_size=0.2, \n",
    "    shuffle=True, \n",
    "    stratify=df['labels'], \n",
    "    random_state=42,\n",
    "    )"
   ]
  },
  {
   "cell_type": "code",
   "execution_count": 10,
   "metadata": {
    "execution": {
     "iopub.execute_input": "2022-04-09T05:50:12.953071Z",
     "iopub.status.busy": "2022-04-09T05:50:12.952376Z",
     "iopub.status.idle": "2022-04-09T05:50:12.958987Z",
     "shell.execute_reply": "2022-04-09T05:50:12.958221Z",
     "shell.execute_reply.started": "2022-04-09T05:50:12.953025Z"
    }
   },
   "outputs": [],
   "source": [
    "# training set\n",
    "train_ds = LoadDataset(train_df)\n",
    "# test set\n",
    "test_ds = LoadDataset(test_df)"
   ]
  },
  {
   "cell_type": "code",
   "execution_count": null,
   "metadata": {
    "execution": {
     "iopub.execute_input": "2022-04-08T05:17:41.205324Z",
     "iopub.status.busy": "2022-04-08T05:17:41.205036Z",
     "iopub.status.idle": "2022-04-08T05:17:41.352682Z",
     "shell.execute_reply": "2022-04-08T05:17:41.351962Z",
     "shell.execute_reply.started": "2022-04-08T05:17:41.205278Z"
    }
   },
   "outputs": [],
   "source": [
    "train_ds[0]"
   ]
  },
  {
   "cell_type": "code",
   "execution_count": 11,
   "metadata": {
    "execution": {
     "iopub.execute_input": "2022-04-09T05:50:16.671977Z",
     "iopub.status.busy": "2022-04-09T05:50:16.671118Z",
     "iopub.status.idle": "2022-04-09T05:50:16.682554Z",
     "shell.execute_reply": "2022-04-09T05:50:16.681797Z",
     "shell.execute_reply.started": "2022-04-09T05:50:16.671928Z"
    }
   },
   "outputs": [],
   "source": [
    "class AnimalModel(LightningModule):\n",
    "    def __init__(self):\n",
    "        super().__init__()\n",
    "        # hyper-parameters for training the model\n",
    "        self.batch_size = 64\n",
    "        self.learning_rate = 1e-7\n",
    "\n",
    "        # create a pretrained resnet34 by specifying the number of labels to classify\n",
    "        self.model = timm.create_model(\n",
    "            \"resnet34\", \n",
    "            pretrained=True, \n",
    "            num_classes=len(label_int)\n",
    "        )\n",
    "\n",
    "    def forward(self, x):\n",
    "        return self.model(x)\n",
    "\n",
    "    def train_dataloader(self):\n",
    "        return DataLoader(train_ds, batch_size=self.batch_size, shuffle=False)\n",
    "    \n",
    "    # return validation/evaluation dataloader\n",
    "    def val_dataloader(self):\n",
    "        return DataLoader(test_ds, batch_size=self.batch_size, shuffle=False)\n",
    "\n",
    "    # return the optimizer\n",
    "    def configure_optimizers(self):\n",
    "        return torch.optim.AdamW(self.model.parameters(), lr=self.learning_rate)\n",
    "\n",
    "    def training_step(self, batch, batch_idx):\n",
    "        x, y = batch\n",
    "        out = self.model(x)\n",
    "        loss = F.cross_entropy(out, y)\n",
    "        \n",
    "        # this is how we log stuff and show it along with the progress bar(prog_bar=True)\n",
    "        self.log(\"train_loss\", loss, prog_bar=True)\n",
    "        self.log(\"learning_rate\", self.learning_rate)\n",
    "        return loss\n",
    "\n",
    "    def validation_step(self, batch, batch_idx):\n",
    "        x, y = batch\n",
    "        out = self.model(x)\n",
    "        loss = F.cross_entropy(out, y)\n",
    "        \n",
    "        self.log(\"eval_loss\", loss, prog_bar=True)\n",
    "        return loss"
   ]
  },
  {
   "cell_type": "code",
   "execution_count": 22,
   "metadata": {
    "execution": {
     "iopub.execute_input": "2022-04-09T05:54:40.017086Z",
     "iopub.status.busy": "2022-04-09T05:54:40.016801Z",
     "iopub.status.idle": "2022-04-09T05:54:40.024175Z",
     "shell.execute_reply": "2022-04-09T05:54:40.023215Z",
     "shell.execute_reply.started": "2022-04-09T05:54:40.017055Z"
    }
   },
   "outputs": [],
   "source": [
    "logger = WandbLogger(project='lightning-project', name='animal-clf-test', log_model=True)\n",
    "\n",
    "trainer = Trainer(\n",
    "    accelerator='auto', \n",
    "    auto_lr_find=True,  \n",
    "    max_epochs=10,      \n",
    "    devices=1,\n",
    "    logger=logger, # wandb logger\n",
    ")"
   ]
  },
  {
   "cell_type": "code",
   "execution_count": 23,
   "metadata": {
    "execution": {
     "iopub.execute_input": "2022-04-09T05:54:41.674434Z",
     "iopub.status.busy": "2022-04-09T05:54:41.674161Z",
     "iopub.status.idle": "2022-04-09T05:54:59.081932Z",
     "shell.execute_reply": "2022-04-09T05:54:59.081067Z",
     "shell.execute_reply.started": "2022-04-09T05:54:41.674404Z"
    }
   },
   "outputs": [],
   "source": [
    "model = AnimalModel()\n",
    "trainer.tune(model)"
   ]
  },
  {
   "cell_type": "code",
   "execution_count": 24,
   "metadata": {
    "execution": {
     "iopub.execute_input": "2022-04-09T05:55:01.104989Z",
     "iopub.status.busy": "2022-04-09T05:55:01.104701Z",
     "iopub.status.idle": "2022-04-09T05:59:45.723006Z",
     "shell.execute_reply": "2022-04-09T05:59:45.722202Z",
     "shell.execute_reply.started": "2022-04-09T05:55:01.104957Z"
    }
   },
   "outputs": [],
   "source": [
    "trainer.fit(model)"
   ]
  },
  {
   "cell_type": "code",
   "execution_count": 40,
   "metadata": {
    "execution": {
     "iopub.execute_input": "2022-04-09T06:04:01.056577Z",
     "iopub.status.busy": "2022-04-09T06:04:01.056082Z",
     "iopub.status.idle": "2022-04-09T06:04:01.309760Z",
     "shell.execute_reply": "2022-04-09T06:04:01.309122Z",
     "shell.execute_reply.started": "2022-04-09T06:04:01.056541Z"
    }
   },
   "outputs": [],
   "source": [
    "import matplotlib.pyplot as plt\n",
    "sample = test_ds[19]\n",
    "\n",
    "pred = model(sample[0].unsqueeze(0))\n",
    "pred = torch.argmax(pred, dim=1).item()\n",
    "\n",
    "print(label_mapping)\n",
    "# final prediction\n",
    "print(f\"Predicted class: {pred}\")\n",
    "\n",
    "plt.imshow(torch.permute(sample[0], (1, 2, 0)));"
   ]
  },
  {
   "cell_type": "code",
   "execution_count": null,
   "metadata": {},
   "outputs": [],
   "source": []
  }
 ],
 "metadata": {
  "kernelspec": {
   "display_name": "Python 3",
   "language": "python",
   "name": "python3"
  },
  "language_info": {
   "codemirror_mode": {
    "name": "ipython",
    "version": 3
   },
   "file_extension": ".py",
   "mimetype": "text/x-python",
   "name": "python",
   "nbconvert_exporter": "python",
   "pygments_lexer": "ipython3",
   "version": "3.7.12"
  }
 },
 "nbformat": 4,
 "nbformat_minor": 4
}