{
 "cells": [
  {
   "cell_type": "code",
   "execution_count": 1,
   "metadata": {
    "execution": {
     "iopub.execute_input": "2022-03-18T05:28:52.762272Z",
     "iopub.status.busy": "2022-03-18T05:28:52.761929Z",
     "iopub.status.idle": "2022-03-18T05:29:03.338376Z",
     "shell.execute_reply": "2022-03-18T05:29:03.337119Z",
     "shell.execute_reply.started": "2022-03-18T05:28:52.762185Z"
    }
   },
   "outputs": [],
   "source": [
    "!pip install -q datasets"
   ]
  },
  {
   "cell_type": "code",
   "execution_count": 2,
   "metadata": {
    "execution": {
     "iopub.execute_input": "2022-03-18T05:36:25.359432Z",
     "iopub.status.busy": "2022-03-18T05:36:25.359175Z",
     "iopub.status.idle": "2022-03-18T05:36:33.185520Z",
     "shell.execute_reply": "2022-03-18T05:36:33.184374Z",
     "shell.execute_reply.started": "2022-03-18T05:36:25.359406Z"
    }
   },
   "outputs": [],
   "source": [
    "from datasets import load_dataset, DatasetDict\n",
    "from transformers import (\n",
    "    AutoTokenizer, \n",
    "    GPT2LMHeadModel, \n",
    "    AutoConfig, \n",
    "    DataCollatorForLanguageModeling,\n",
    "    Trainer,\n",
    "    TrainingArguments,\n",
    ")"
   ]
  },
  {
   "cell_type": "code",
   "execution_count": 17,
   "metadata": {
    "execution": {
     "iopub.execute_input": "2022-03-18T05:52:27.912598Z",
     "iopub.status.busy": "2022-03-18T05:52:27.911525Z",
     "iopub.status.idle": "2022-03-18T05:57:14.268636Z",
     "shell.execute_reply": "2022-03-18T05:57:14.266520Z",
     "shell.execute_reply.started": "2022-03-18T05:52:27.912542Z"
    }
   },
   "outputs": [],
   "source": [
    "complete_ds = load_dataset(\"huggingface-course/codeparrot-ds-train\")"
   ]
  },
  {
   "cell_type": "code",
   "execution_count": 18,
   "metadata": {
    "execution": {
     "iopub.execute_input": "2022-03-18T05:59:02.023151Z",
     "iopub.status.busy": "2022-03-18T05:59:02.022789Z",
     "iopub.status.idle": "2022-03-18T05:59:02.138372Z",
     "shell.execute_reply": "2022-03-18T05:59:02.137834Z",
     "shell.execute_reply.started": "2022-03-18T05:59:02.023115Z"
    }
   },
   "outputs": [],
   "source": [
    "raw_datasets = complete_ds['train'].train_test_split(train_size=0.1, test_size=0.01, seed=42)"
   ]
  },
  {
   "cell_type": "code",
   "execution_count": 19,
   "metadata": {
    "execution": {
     "iopub.execute_input": "2022-03-18T05:59:02.455535Z",
     "iopub.status.busy": "2022-03-18T05:59:02.455105Z",
     "iopub.status.idle": "2022-03-18T05:59:02.462395Z",
     "shell.execute_reply": "2022-03-18T05:59:02.461344Z",
     "shell.execute_reply.started": "2022-03-18T05:59:02.455505Z"
    }
   },
   "outputs": [],
   "source": [
    "raw_datasets"
   ]
  },
  {
   "cell_type": "code",
   "execution_count": 20,
   "metadata": {
    "execution": {
     "iopub.execute_input": "2022-03-18T05:59:03.103393Z",
     "iopub.status.busy": "2022-03-18T05:59:03.103098Z",
     "iopub.status.idle": "2022-03-18T05:59:03.118340Z",
     "shell.execute_reply": "2022-03-18T05:59:03.117385Z",
     "shell.execute_reply.started": "2022-03-18T05:59:03.103364Z"
    }
   },
   "outputs": [],
   "source": [
    "print(raw_datasets['train'][0]['content'][:500])"
   ]
  },
  {
   "cell_type": "code",
   "execution_count": 21,
   "metadata": {
    "execution": {
     "iopub.execute_input": "2022-03-18T05:59:06.400918Z",
     "iopub.status.busy": "2022-03-18T05:59:06.399810Z",
     "iopub.status.idle": "2022-03-18T05:59:07.524743Z",
     "shell.execute_reply": "2022-03-18T05:59:07.523556Z",
     "shell.execute_reply.started": "2022-03-18T05:59:06.400872Z"
    }
   },
   "outputs": [],
   "source": [
    "tokenizer = AutoTokenizer.from_pretrained(\"huggingface-course/code-search-net-tokenizer\")"
   ]
  },
  {
   "cell_type": "code",
   "execution_count": 22,
   "metadata": {
    "execution": {
     "iopub.execute_input": "2022-03-18T05:59:07.816800Z",
     "iopub.status.busy": "2022-03-18T05:59:07.816523Z",
     "iopub.status.idle": "2022-03-18T06:00:07.423712Z",
     "shell.execute_reply": "2022-03-18T06:00:07.422316Z",
     "shell.execute_reply.started": "2022-03-18T05:59:07.816770Z"
    }
   },
   "outputs": [],
   "source": [
    "sample = raw_datasets['train']['content'][:2]\n",
    "\n",
    "o = tokenizer(\n",
    "        sample, \n",
    "        truncation=True, \n",
    "        max_length=128,\n",
    "        return_overflowing_tokens=True,\n",
    "        return_length=True,\n",
    "    )"
   ]
  },
  {
   "cell_type": "code",
   "execution_count": 23,
   "metadata": {
    "execution": {
     "iopub.execute_input": "2022-03-18T06:00:07.429266Z",
     "iopub.status.busy": "2022-03-18T06:00:07.426816Z",
     "iopub.status.idle": "2022-03-18T06:00:07.438622Z",
     "shell.execute_reply": "2022-03-18T06:00:07.437803Z",
     "shell.execute_reply.started": "2022-03-18T06:00:07.429213Z"
    }
   },
   "outputs": [],
   "source": [
    "max_length = 128\n",
    "\n",
    "def tokenize(examples):\n",
    "    outputs = tokenizer(\n",
    "        examples['content'], \n",
    "        truncation=True, \n",
    "        max_length=max_length,\n",
    "        return_overflowing_tokens=True,\n",
    "        return_length=True,\n",
    "    )\n",
    "    input_batch = []\n",
    "    \n",
    "    for input_ids, length in zip(outputs['input_ids'], outputs['length']):\n",
    "        if length==max_length:\n",
    "            input_batch.append(input_ids)\n",
    "            \n",
    "    return {\"input_ids\": input_batch}"
   ]
  },
  {
   "cell_type": "code",
   "execution_count": null,
   "metadata": {
    "execution": {
     "iopub.execute_input": "2022-03-15T06:18:12.711312Z",
     "iopub.status.busy": "2022-03-15T06:18:12.71088Z",
     "iopub.status.idle": "2022-03-15T06:29:56.595342Z",
     "shell.execute_reply": "2022-03-15T06:29:56.594234Z",
     "shell.execute_reply.started": "2022-03-15T06:18:12.711281Z"
    }
   },
   "outputs": [],
   "source": [
    "tokenized_datasets = raw_datasets.map(\n",
    "    tokenize, \n",
    "    batched=True, \n",
    "    remove_columns=raw_datasets['train'].column_names\n",
    ")"
   ]
  },
  {
   "cell_type": "code",
   "execution_count": null,
   "metadata": {
    "execution": {
     "iopub.execute_input": "2022-03-15T06:33:30.598845Z",
     "iopub.status.busy": "2022-03-15T06:33:30.598024Z",
     "iopub.status.idle": "2022-03-15T06:33:31.258408Z",
     "shell.execute_reply": "2022-03-15T06:33:31.257715Z",
     "shell.execute_reply.started": "2022-03-15T06:33:30.5988Z"
    }
   },
   "outputs": [],
   "source": [
    "sample_data = DatasetDict(\n",
    "    {\n",
    "        \"train\": tokenized_datasets['train'].shuffle(seed=42).select(range(30)),\n",
    "        \"test\": tokenized_datasets['test'].shuffle(seed=42).select(range(20))\n",
    "    }\n",
    ")"
   ]
  },
  {
   "cell_type": "code",
   "execution_count": 7,
   "metadata": {
    "execution": {
     "iopub.execute_input": "2022-03-18T05:37:03.379790Z",
     "iopub.status.busy": "2022-03-18T05:37:03.379469Z",
     "iopub.status.idle": "2022-03-18T05:37:12.630654Z",
     "shell.execute_reply": "2022-03-18T05:37:12.629394Z",
     "shell.execute_reply.started": "2022-03-18T05:37:03.379755Z"
    }
   },
   "outputs": [],
   "source": [
    "config = AutoConfig.from_pretrained(\n",
    "    \"gpt2\", \n",
    "    vocab_size=len(tokenizer),\n",
    "    n_ctx=max_length,\n",
    "    bos_token_id=tokenizer.bos_token_id,\n",
    "    eos_token_id=tokenizer.eos_token_id,\n",
    ")\n",
    "model = GPT2LMHeadModel(config)"
   ]
  },
  {
   "cell_type": "code",
   "execution_count": 27,
   "metadata": {
    "execution": {
     "iopub.execute_input": "2022-03-18T06:01:29.124365Z",
     "iopub.status.busy": "2022-03-18T06:01:29.123318Z",
     "iopub.status.idle": "2022-03-18T06:01:29.128972Z",
     "shell.execute_reply": "2022-03-18T06:01:29.128305Z",
     "shell.execute_reply.started": "2022-03-18T06:01:29.124288Z"
    }
   },
   "outputs": [],
   "source": [
    "tokenizer.pad_token = tokenizer.eos_token\n",
    "collator = DataCollatorForLanguageModeling(tokenizer, mlm=False)"
   ]
  },
  {
   "cell_type": "code",
   "execution_count": null,
   "metadata": {},
   "outputs": [],
   "source": [
    "a = [dict(zip(o, v)) for v in zip(*o.values())]\n",
    "tokenizer.convert_ids_to_tokens(collator(a)['input_ids'][0])"
   ]
  },
  {
   "cell_type": "code",
   "execution_count": null,
   "metadata": {
    "execution": {
     "iopub.execute_input": "2022-03-15T05:44:59.988571Z",
     "iopub.status.busy": "2022-03-15T05:44:59.987997Z",
     "iopub.status.idle": "2022-03-15T05:44:59.996255Z",
     "shell.execute_reply": "2022-03-15T05:44:59.995238Z",
     "shell.execute_reply.started": "2022-03-15T05:44:59.988531Z"
    }
   },
   "outputs": [],
   "source": [
    "a = collator([tokenized_datasets[\"train\"][i] for i in range(5)])"
   ]
  },
  {
   "cell_type": "code",
   "execution_count": null,
   "metadata": {
    "execution": {
     "iopub.execute_input": "2022-03-15T05:45:15.042082Z",
     "iopub.status.busy": "2022-03-15T05:45:15.041707Z",
     "iopub.status.idle": "2022-03-15T05:45:15.048722Z",
     "shell.execute_reply": "2022-03-15T05:45:15.047727Z",
     "shell.execute_reply.started": "2022-03-15T05:45:15.042043Z"
    }
   },
   "outputs": [],
   "source": [
    "for key in a:\n",
    "    print(f\"{key} shape: {a[key].shape}\")"
   ]
  },
  {
   "cell_type": "code",
   "execution_count": null,
   "metadata": {
    "execution": {
     "iopub.execute_input": "2022-03-15T06:34:33.224591Z",
     "iopub.status.busy": "2022-03-15T06:34:33.224312Z",
     "iopub.status.idle": "2022-03-15T06:34:33.235979Z",
     "shell.execute_reply": "2022-03-15T06:34:33.235349Z",
     "shell.execute_reply.started": "2022-03-15T06:34:33.224551Z"
    }
   },
   "outputs": [],
   "source": [
    "args = TrainingArguments(\n",
    "    output_dir=\"model_outputs\",\n",
    "    per_device_train_batch_size=32,\n",
    "    per_device_eval_batch_size=32,\n",
    "    evaluation_strategy=\"epoch\",\n",
    "    gradient_accumulation_steps=8,\n",
    "    num_train_epochs=1, \n",
    "    weight_decay=0.01,\n",
    "    learning_rate=5e-4,\n",
    "    fp16=True,\n",
    "    run_name=\"casual-lm\",\n",
    "    report_to=\"wandb\",\n",
    ")"
   ]
  },
  {
   "cell_type": "code",
   "execution_count": null,
   "metadata": {
    "execution": {
     "iopub.execute_input": "2022-03-15T06:34:47.389966Z",
     "iopub.status.busy": "2022-03-15T06:34:47.389378Z",
     "iopub.status.idle": "2022-03-15T06:34:47.543413Z",
     "shell.execute_reply": "2022-03-15T06:34:47.542668Z",
     "shell.execute_reply.started": "2022-03-15T06:34:47.389926Z"
    }
   },
   "outputs": [],
   "source": [
    "trainer = Trainer(\n",
    "    model=model, \n",
    "    tokenizer=tokenizer, \n",
    "    args=args, \n",
    "    data_collator=collator, \n",
    "    train_dataset=tokenized_datasets['train'],\n",
    "    eval_dataset=tokenized_datasets['test'],\n",
    ")"
   ]
  },
  {
   "cell_type": "code",
   "execution_count": null,
   "metadata": {
    "execution": {
     "iopub.execute_input": "2022-03-15T06:34:53.480209Z",
     "iopub.status.busy": "2022-03-15T06:34:53.479916Z",
     "iopub.status.idle": "2022-03-15T15:20:32.434417Z",
     "shell.execute_reply": "2022-03-15T15:20:32.433564Z",
     "shell.execute_reply.started": "2022-03-15T06:34:53.480179Z"
    }
   },
   "outputs": [],
   "source": [
    "trainer.train()"
   ]
  },
  {
   "cell_type": "code",
   "execution_count": null,
   "metadata": {
    "execution": {
     "iopub.execute_input": "2022-03-15T15:32:30.343554Z",
     "iopub.status.busy": "2022-03-15T15:32:30.343257Z",
     "iopub.status.idle": "2022-03-15T15:32:31.321165Z",
     "shell.execute_reply": "2022-03-15T15:32:31.319699Z",
     "shell.execute_reply.started": "2022-03-15T15:32:30.343521Z"
    }
   },
   "outputs": [],
   "source": [
    "txt = \"\"\"\n",
    "# import random forest regressor from scikit-learn\n",
    "from sklearn.ensemble import RandomForestRegressor\n",
    "\n",
    "# fit random forest model with 300 estimators on X, y:\n",
    "\"\"\"\n",
    "\n",
    "inputs = tokenizer(txt, return_tensors='pt')\n",
    "inputs = inputs.to('cuda')\n",
    "\n",
    "out = trainer.model.generate(**inputs, max_length=130)\n",
    "print(tokenizer.decode(out[0]))"
   ]
  },
  {
   "cell_type": "markdown",
   "metadata": {},
   "source": [
    "#### Output:\n",
    "\n",
    "```python\n",
    "# import random forest regressor from scikit-learn\n",
    "from sklearn.ensemble import RandomForestRegressor\n",
    "\n",
    "# fit random forest model with 300 estimators on X, y:\n",
    "X_train, X_test, y_train, y_test = train_test_split(X, y, test_size=.5, random_state=0)\n",
    "\n",
    "# Fit classifier with all parameters\n",
    "classifier = RandomForestRegressor(n_estimators=300, max_depth=3, n_estimators=100, random_state=0)\n",
    "\n",
    "classifier.fit(X_train, y_train)\n",
    "```"
   ]
  },
  {
   "cell_type": "code",
   "execution_count": null,
   "metadata": {},
   "outputs": [],
   "source": []
  }
 ],
 "metadata": {
  "kernelspec": {
   "display_name": "Python 3",
   "language": "python",
   "name": "python3"
  },
  "language_info": {
   "codemirror_mode": {
    "name": "ipython",
    "version": 3
   },
   "file_extension": ".py",
   "mimetype": "text/x-python",
   "name": "python",
   "nbconvert_exporter": "python",
   "pygments_lexer": "ipython3",
   "version": "3.7.12"
  }
 },
 "nbformat": 4,
 "nbformat_minor": 4
}